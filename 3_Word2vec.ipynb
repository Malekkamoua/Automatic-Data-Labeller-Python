{
  "nbformat": 4,
  "nbformat_minor": 0,
  "metadata": {
    "colab": {
      "name": "3- Word2vec",
      "provenance": [],
      "collapsed_sections": [],
      "include_colab_link": true
    },
    "kernelspec": {
      "display_name": "Python 3",
      "name": "python3"
    },
    "language_info": {
      "name": "python"
    }
  },
  "cells": [
    {
      "cell_type": "markdown",
      "metadata": {
        "id": "view-in-github",
        "colab_type": "text"
      },
      "source": [
        "<a href=\"https://colab.research.google.com/github/Malekkamoua/Medical-data-classifier/blob/main/3_Word2vec.ipynb\" target=\"_parent\"><img src=\"https://colab.research.google.com/assets/colab-badge.svg\" alt=\"Open In Colab\"/></a>"
      ]
    },
    {
      "cell_type": "code",
      "metadata": {
        "id": "wGxJ5OexmyME"
      },
      "source": [
        "from google.colab import drive\n",
        "drive.mount('/content/gdrive')"
      ],
      "execution_count": null,
      "outputs": []
    },
    {
      "cell_type": "markdown",
      "metadata": {
        "id": "Nvp5C7BB_z-Y"
      },
      "source": [
        "Unzip all data "
      ]
    },
    {
      "cell_type": "code",
      "metadata": {
        "id": "8_FFu4WawlzY"
      },
      "source": [
        "import os,zipfile\n",
        "os.getcwd()\n",
        "os.chdir('/content/gdrive/MyDrive/preprocessed_data')\n",
        "os.getcwd()\n",
        "file=os.listdir()\n",
        "for i in range(len(file)):\n",
        "\n",
        "  unzip=zipfile.ZipFile(file[i])\n",
        "  unzip.extractall('/content/gdrive/MyDrive/unzipped') \n",
        "\n",
        "#from zipfile import ZipFile\n",
        "# Create a ZipFile Object and load sample.zip in it\n",
        "#with ZipFile('/content/gdrive/MyDrive/preprocessed_data/preprocessed_data_part1.zip', 'r') as zipObj:\n",
        "   # Extract all the contents of zip file in current directory\n",
        "  # zipObj.extractall()"
      ],
      "execution_count": null,
      "outputs": []
    },
    {
      "cell_type": "code",
      "metadata": {
        "id": "woAxkJC0xEqR"
      },
      "source": [
        "#import os\n",
        "#os.listdir(\"/content/content/content/preprocessed_data_part1\")\n",
        "import os\n",
        "  \n",
        "# Folder Path\n",
        "\n",
        "  \n",
        "# Change the directory\n",
        "#os.chdir(path)\n",
        "  \n",
        "# Read text File\n",
        "doc =[]\n",
        "  \n",
        "def read_text_file(file_path):\n",
        "    with open(file_path, 'r') as f:\n",
        "        f.readline()\n",
        "  \n",
        "\n",
        "subdirs = [x[0] for x in os.walk('/content/gdrive/MyDrive/unzipped/content/content')]\n",
        "for dir in subdirs:\n",
        "# iterate through all file\n",
        "  for file in os.listdir(dir):\n",
        "    # Check whether file is in text format or not\n",
        "      if file.endswith(\".txt\"):\n",
        "          file_path = f\"{dir}/{file}\"\n",
        "  \n",
        "        # call read text file function\n",
        "          with open(file_path, 'r') as f:\n",
        "            doc.append(f.readline())\n",
        "doc "
      ],
      "execution_count": null,
      "outputs": []
    },
    {
      "cell_type": "code",
      "metadata": {
        "id": "bvkgV0XTE99C"
      },
      "source": [
        "import nltk\n",
        "nltk.download('punkt')"
      ],
      "execution_count": null,
      "outputs": []
    },
    {
      "cell_type": "code",
      "metadata": {
        "id": "i0rK2SUNE0nL"
      },
      "source": [
        "\n",
        "from nltk import word_tokenize\n",
        "# Preparing the dataset\n",
        "\n",
        "\n",
        "sentences = [word_tokenize(sentence) for sentence in doc]\n",
        "    \n",
        "sentences"
      ],
      "execution_count": null,
      "outputs": []
    },
    {
      "cell_type": "code",
      "metadata": {
        "id": "QdXLyTUmCEK3"
      },
      "source": [
        "import gensim\n",
        "from gensim.test.utils import common_texts\n",
        "from gensim.models import Word2Vec\n",
        "model = Word2Vec(\n",
        "        sentences,\n",
        "        size=150,\n",
        "        window=10,\n",
        "        min_count=5,\n",
        "        workers=10,\n",
        "        iter=10)\n",
        "model.save(\"word2vec.model\")"
      ],
      "execution_count": null,
      "outputs": []
    },
    {
      "cell_type": "code",
      "metadata": {
        "id": "Srf45tIcEACR"
      },
      "source": [
        " \n",
        "model.most_similar(\"facebook\")"
      ],
      "execution_count": null,
      "outputs": []
    },
    {
      "cell_type": "code",
      "metadata": {
        "id": "nWnBrtd8yKTN"
      },
      "source": [
        "import numpy as np\n",
        "import matplotlib.pyplot as plt\n",
        "import seaborn as sns\n",
        "from gensim.models import Word2Vec\n",
        "from sklearn.manifold import TSNE\n",
        "import pandas as pd\n",
        "\n",
        "plt.style.use('seaborn-whitegrid')\n",
        "\n",
        "def tsne_scatterplot(model, search_word):\n",
        "    labels = [search_word]\n",
        "    tokens = [model[search_word]]\n",
        "    similar = [1]\n",
        "    close_words = model.similar_by_word(search_word, topn=10)\n",
        "    for word in close_words:\n",
        "        tokens.append(model[word[0]])\n",
        "        labels.append(word[0])\n",
        "        similar.append(word[1])\n",
        "\n",
        "    tsne_model = TSNE(n_components=2, init='pca')\n",
        "    coordinates = tsne_model.fit_transform(tokens)\n",
        "    df = pd.DataFrame({'x': [x for x in coordinates[:, 0]],\n",
        "                       'y': [y for y in coordinates[:, 1]],\n",
        "                       'words': labels,\n",
        "                       'similarity': similar}\n",
        "                      )\n",
        "    a4_dims = (11.7, 8.27)\n",
        "    fig, ax = plt.subplots(figsize=a4_dims)\n",
        "    plot = ax.scatter(df.x, df.y, c=df.similarity, cmap='Reds')\n",
        "    for i in range(len(df)):\n",
        "        ax.annotate(\"  {} ({:.2f})\".format(df.words[i].title(),\n",
        "                                           df.similarity[i]),\n",
        "                    (df.x[i], df.y[i]))\n",
        "\n",
        "    plt.colorbar(mappable=plot, ax=ax)\n",
        "    plt.title('t-SNE visualization for {}'.format(search_word))\n",
        "    plt.show()\n",
        "\n",
        "tsne_scatterplot(model, \"facebook\")"
      ],
      "execution_count": null,
      "outputs": []
    },
    {
      "cell_type": "code",
      "metadata": {
        "id": "0JH8L16QwRtA"
      },
      "source": [
        "array_vec = []\n",
        "for idx, key in enumerate(model.wv.vocab):\n",
        "  array_vec.append(model.wv[key])\n",
        "array_vec"
      ],
      "execution_count": null,
      "outputs": []
    },
    {
      "cell_type": "code",
      "metadata": {
        "id": "A71UirOcvluN"
      },
      "source": [
        "from sklearn.cluster import KMeans\n",
        "distortions = []\n",
        "K = range(1,101)\n",
        "for k in K:\n",
        "    kmeanModel = KMeans(n_clusters=k)\n",
        "    kmeanModel.fit(array_vec)\n",
        "    distortions.append(kmeanModel.inertia_)"
      ],
      "execution_count": null,
      "outputs": []
    },
    {
      "cell_type": "code",
      "metadata": {
        "colab": {
          "base_uri": "https://localhost:8080/"
        },
        "id": "d9uDDyrhzEbr",
        "outputId": "0ba7a648-3610-49f3-db4a-cdb7ee1d44e6"
      },
      "source": [
        "import matplotlib.pyplot as plt\n",
        "plt.figure(figsize=(16,8))\n",
        "plt.plot(K, distortions, 'bx-')\n",
        "plt.xlabel('k')\n",
        "plt.ylabel('Distortion')\n",
        "plt.title('The Elbow Method showing the optimal k')\n",
        "plt.show()"
      ],
      "execution_count": null,
      "outputs": [
        {
          "output_type": "display_data",
          "data": {
            "image/png": "[encoded data removed]",
            "text/plain": [
              "<Figure size 1152x576 with 1 Axes>"
            ]
          },
          "metadata": {
            "tags": []
          }
        }
      ]
    }
  ]
}