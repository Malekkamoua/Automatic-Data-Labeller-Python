{
  "nbformat": 4,
  "nbformat_minor": 0,
  "metadata": {
    "colab": {
      "name": "1- Cleaning Data.ipynb",
      "provenance": [],
      "collapsed_sections": [],
      "include_colab_link": true
    },
    "kernelspec": {
      "display_name": "Python 3",
      "name": "python3"
    },
    "language_info": {
      "name": "python"
    }
  },
  "cells": [
    {
      "cell_type": "markdown",
      "metadata": {
        "id": "view-in-github",
        "colab_type": "text"
      },
      "source": [
        "<a href=\"https://colab.research.google.com/github/Malekkamoua/Medical-data-classifier/blob/main/1_Cleaning_Data.ipynb\" target=\"_parent\"><img src=\"https://colab.research.google.com/assets/colab-badge.svg\" alt=\"Open In Colab\"/></a>"
      ]
    },
    {
      "cell_type": "code",
      "metadata": {
        "id": "edVxRW0avcw-"
      },
      "source": [
        "from google.colab import drive\n",
        "\n",
        "drive.mount('/content/gdrive')"
      ],
      "execution_count": null,
      "outputs": []
    },
    {
      "cell_type": "code",
      "metadata": {
        "id": "v8xOhVBwwT6y"
      },
      "source": [
        "!pip install unrar"
      ],
      "execution_count": null,
      "outputs": []
    },
    {
      "cell_type": "code",
      "metadata": {
        "id": "TpGzlVZkwaN5"
      },
      "source": [
        "!unrar x \"/content/gdrive/My Drive/Copie de data.rar\""
      ],
      "execution_count": null,
      "outputs": []
    },
    {
      "cell_type": "code",
      "metadata": {
        "id": "CfGZSt_Oy7k5"
      },
      "source": [
        "#Displaying file names\n",
        "import os\n",
        "\n",
        "directory_list = list()\n",
        "for root, dirs, files in os.walk(\"/content/data\", topdown=False):\n",
        "    for name in dirs:\n",
        "        directory_list.append(os.path.join(root, name))\n",
        "\n",
        "print (directory_list)"
      ],
      "execution_count": null,
      "outputs": []
    },
    {
      "cell_type": "code",
      "metadata": {
        "id": "s2B8AidY93Ur",
        "colab": {
          "base_uri": "https://localhost:8080/"
        },
        "outputId": "c438bef4-4cb5-4176-d08f-5278d77c8203"
      },
      "source": [
        "#adding .html to all files\n",
        "all_files = 0\n",
        "for root, dirs, files in os.walk(\"/content/data\", topdown=False):\n",
        "    all_files += len(files)\n",
        "    for file in files:\n",
        "        base_path, ext = os.path.splitext(os.path.join(root, file))\n",
        "\n",
        "        if not ext:\n",
        " \n",
        "            os.rename(base_path, base_path + \".html\")\n",
        "print(all_files)"
      ],
      "execution_count": null,
      "outputs": [
        {
          "output_type": "stream",
          "text": [
            "135516\n"
          ],
          "name": "stdout"
        }
      ]
    },
    {
      "cell_type": "code",
      "metadata": {
        "id": "VRd9v9s2v-RK"
      },
      "source": [
        "from bs4 import BeautifulSoup\n",
        "from bs4.element import Comment\n",
        "import urllib.request\n",
        "\n",
        "def tag_visible(element):\n",
        "    if element.parent.name in ['style', 'script', 'head', 'title', 'meta', '[document]']:\n",
        "        return False\n",
        "    if isinstance(element, Comment):\n",
        "        return False\n",
        "    return True\n",
        "\n",
        " \n",
        "def text_from_html(body):\n",
        "    soup = BeautifulSoup(body, 'html.parser')\n",
        "    texts = soup.findAll(text=True)\n",
        "    visible_texts = filter(tag_visible, texts)  \n",
        "    return u\" \".join(t.strip() for t in visible_texts)\n",
        "\n",
        "errors = 0\n",
        "for root, dirs, files in os.walk(\"/content/data\", topdown=False):\n",
        "    for dir in dirs[1:]:\n",
        "\n",
        "      allfiles = os.listdir('/content/data/'+dir)\n",
        "      files = [ fname for fname in allfiles if fname.endswith('.html')]\n",
        "      for file in files:\n",
        "\n",
        "        single_filename = file\n",
        "\n",
        "        try:\n",
        "         \n",
        "          file1 = open(r'/content/data/'+dir+'/'+file, \"r\")\n",
        "          contenu = file1.read()\n",
        "          filename = file1.name\n",
        "\n",
        "          html = str(contenu)\n",
        "\n",
        "          newfilename = os.path.splitext(single_filename)[0]\n",
        "          print(single_filename)\n",
        "  \n",
        "          # Save clean file \n",
        "          title = 'clean_data/'+newfilename+'.txt'\n",
        "          file = open(title, \"w\") \n",
        "          file.write(text_from_html(html)) \n",
        "          file.close() \n",
        "\n",
        "        #encoding error blocking the process\n",
        "        except:\n",
        "          errors += 1\n",
        "          continue\n",
        "\n",
        "print(\"all work is done :)\")"
      ],
      "execution_count": null,
      "outputs": []
    },
    {
      "cell_type": "code",
      "metadata": {
        "colab": {
          "base_uri": "https://localhost:8080/"
        },
        "id": "lYv-Eje1Yh2n",
        "outputId": "8daadcef-a1d8-45ad-e9fd-8898a593e71d"
      },
      "source": [
        "from google.colab import drive\n",
        "drive.mount('/content/drive')"
      ],
      "execution_count": null,
      "outputs": [
        {
          "output_type": "stream",
          "text": [
            "Mounted at /content/drive\n"
          ],
          "name": "stdout"
        }
      ]
    },
    {
      "cell_type": "code",
      "metadata": {
        "colab": {
          "base_uri": "https://localhost:8080/"
        },
        "id": "ObNYzWZZbANH",
        "outputId": "6db6a31b-3202-4a6b-dd50-c4fd92c62989"
      },
      "source": [
        "all_new_files = 0\n",
        "for root, dirs, files in os.walk(\"/content/clean_data\", topdown=False):\n",
        "    all_new_files += len(files)\n",
        "\n",
        "print('All files: '+str(all_files))\n",
        "print('new files: '+str(all_new_files))"
      ],
      "execution_count": null,
      "outputs": [
        {
          "output_type": "stream",
          "text": [
            "All files: 135516\n",
            "new files: 126051\n"
          ],
          "name": "stdout"
        }
      ]
    },
    {
      "cell_type": "code",
      "metadata": {
        "colab": {
          "base_uri": "https://localhost:8080/"
        },
        "id": "Nj1h74q0LyCl",
        "outputId": "a44d9d08-cb35-4af6-d0cf-5ec88ecd6400"
      },
      "source": [
        "print('Errors catched: '+str(errors))\n",
        "print('All files: '+str(all_files))\n",
        "pourcentage = (round((errors/all_files * 100), 3))\n",
        "print('Loss: '+str(pourcentage)+ ' %')"
      ],
      "execution_count": null,
      "outputs": [
        {
          "output_type": "stream",
          "text": [
            "Errors catched: 3560\n",
            "All files: 135516\n",
            "Loss: 2.627 %\n"
          ],
          "name": "stdout"
        }
      ]
    },
    {
      "cell_type": "code",
      "metadata": {
        "id": "lV8evFtP7AkO"
      },
      "source": [
        "!zip -r /content/clean_data /content/clean_data\n"
      ],
      "execution_count": null,
      "outputs": []
    },
    {
      "cell_type": "code",
      "metadata": {
        "id": "cv1wyYip73x2",
        "colab": {
          "base_uri": "https://localhost:8080/"
        },
        "outputId": "34a5c2a2-e9fc-4ed6-bddc-de44f41fa2bf"
      },
      "source": [
        "# mount it\n",
        "from google.colab import drive\n",
        "drive.mount(\"/content/gdrive\", force_remount=True)\n",
        "# copy it there\n",
        "!cp \"/content/clean_data.zip\" \"/content/gdrive/My Drive/PFA DATA/Clean_data/Untitled folder\""
      ],
      "execution_count": null,
      "outputs": [
        {
          "output_type": "stream",
          "text": [
            "Mounted at /content/gdrive\n",
            "cp: cannot stat '/content/clean_data.zip': No such file or directory\n"
          ],
          "name": "stdout"
        }
      ]
    }
  ]
}